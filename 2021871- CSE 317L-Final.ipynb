{
  "cells": [
    {
      "cell_type": "markdown",
      "metadata": {
        "id": "kDLEv48cWjdm"
      },
      "source": [
        "\n",
        "The Taylor series expansion of is a representation of the function by an infinite series of polynomials centered at the point.  The Taylor series expansion of a function $f(x)$ is given by\n",
        "\n",
        "$$f(x) = \\sum_{n=0}^{\\infty} \\frac{f^{(n)}(a)}{n!}(x-a)^n$$\n",
        "\n",
        "where $f^{(n)}(a)$ is the $n$ th derivative of $f(x)$ evaluated at $a$.\n",
        "\n",
        "##### **Example**\n",
        "Consider the function $f(x) = e^x$ and the point $a = 0$.  The Taylor series expansion of $f(x)$ centered at $a$ is given by\n",
        "\n",
        "$$\n",
        "\\begin{align*}\n",
        "  f(x) &= \\frac{f^{(0)}(a)(x-a)^0}{0!} + \\frac{f^{(1)}(a)(x-a)^1}{1!} + \\frac{f^{(2)}(a)(x-a)^2}{2!} + \\frac{f^{(3)}(a)(x-a)^3}{3!} + \\cdots \\\\\n",
        "  &= \\frac{f^{(0)}(0)(x-0)^0}{0!} + \\frac{f^{(1)}(0)(x-0)^1}{1!} + \\frac{f^{(2)}(0)(x-0)^2}{2!} + \\frac{f^{(3)}(0)(x-0)^3}{3!} + \\cdots \\\\\n",
        "  &= \\frac{1}{0!} + \\frac{x}{1!} + \\frac{x^2}{2!} + \\frac{x^3}{3!} + \\cdots \\\\\n",
        "  &= 1 + x + \\frac{x^2}{2} + \\frac{x^3}{6} + \\cdots\n",
        "\\end{align*}\n",
        "$$\n",
        "\n",
        "The final expression is an infinite series of polynomials.  The first term is the constant term, the second term is the linear term, the third term is the quadratic term, the fourth term is the cubic term, and so on.  The more terms we include in the series, the more accurate the approximation of the function becomes. We will explore this in the next section."
      ]
    },
    {
      "cell_type": "markdown",
      "metadata": {
        "id": "bqO5_8yAWjdo"
      },
      "source": [
        "#### **Approximation using Taylor Series**\n",
        "We can approximate the value of a function at a point by using the Taylor series expansion of the function. We have already seen an example of how to expand a function using the Taylor series expansion.  In this section, we will use the Taylor series expansion to approximate the value of a function at a point.\n",
        "\n",
        "But, the Taylor series expansion is an infinite series and we oviously cannot compute the value of an infinite series. So, we will use the first few terms of the Taylor series expansion to approximate the value of the function at a point. The number of terms we use in the Taylor series expansion is related to the order of the Taylor series expansion.  The order of the Taylor series expansion is one less than the number of terms in the Taylor series expansion.  For example, if we use the first three terms of the Taylor series expansion, the order of the Taylor series expansion is 2.  If we use the first four terms of the Taylor series expansion, the order of the Taylor series expansion is 3.  And so on.\n",
        "\n",
        "Now, we will try to approximate the function $f(x) = e^{-2x^2}$ at the point $a = 0$ and observe the effect of the order of the Taylor series expansion on the accuracy of the approximation. Follow the steps below to complete the task."
      ]
    },
    {
      "cell_type": "markdown",
      "metadata": {
        "id": "10XCshp5Wjdo"
      },
      "source": [
        "##### **Step 01: Import the required libraries**\n",
        "We will be using the numpy to deal with arrays and the matplotlib to plot the function and its approximation. Import these two libraries in the cell below."
      ]
    },
    {
      "cell_type": "code",
      "execution_count": 12,
      "metadata": {
        "id": "AcTkdRVXWjdp"
      },
      "outputs": [],
      "source": [
        "# Write appropiate code here\n",
        "import numpy as np\n",
        "import matplotlib.pyplot as plt\n",
        "import pandas as pd\n",
        "import sympy as sp"
      ]
    },
    {
      "cell_type": "markdown",
      "metadata": {
        "id": "8eKGkzXFWjdp"
      },
      "source": [
        "##### **Step 02: Define the function and its derivative**\n",
        "Write a function that takes $x$ as an argument and returns the value of $f(x)$.  Also, write the following functions that return the value of the first, second, and third derivatives of $f(x)$.\n",
        "\n",
        ">1. `f1(x)`: returns the value of the first derivative of $f(x)$\n",
        ">2. `f2(x)`: returns the value of the second derivative of $f(x)$\n",
        ">3. `f3(x)`: returns the value of the third derivative of $f(x)$\n"
      ]
    },
    {
      "cell_type": "code",
      "execution_count": 13,
      "metadata": {
        "id": "1Kg-W4hjWjdq",
        "outputId": "7b8aeaa7-2e94-4012-dcaa-a23da8acbd74",
        "colab": {
          "base_uri": "https://localhost:8080/"
        }
      },
      "outputs": [
        {
          "output_type": "stream",
          "name": "stdout",
          "text": [
            "Function f(x) at x=1.5: 0.0111089965382423\n",
            "First derivative at x=1.5: -0.0666539792294538\n",
            "Second derivative at x=1.5: 0.355487889223754\n",
            "Third derivative at x=1.5: -1.59969550150689\n"
          ]
        }
      ],
      "source": [
        "import sympy as sp\n",
        "\n",
        "\n",
        "x = sp.symbols('x')\n",
        "f_x = sp.exp(-2*x**2)\n",
        "\n",
        "\n",
        "f1_x = sp.diff(f_x, x)\n",
        "f2_x = sp.diff(f1_x, x)\n",
        "f3_x = sp.diff(f2_x, x)\n",
        "\n",
        "\n",
        "def f(x_value):\n",
        "    return f_x.subs(x, x_value)\n",
        "\n",
        "\n",
        "def f1(x_value):\n",
        "    return f1_x.subs(x, x_value)\n",
        "\n",
        "def f2(x_value):\n",
        "    return f2_x.subs(x, x_value)\n",
        "\n",
        "def f3(x_value):\n",
        "    return f3_x.subs(x, x_value)\n",
        "\n",
        "\n",
        "x_value = 1.5\n",
        "print(f\"Function f(x) at x={x_value}: {f(x_value)}\")\n",
        "print(f\"First derivative at x={x_value}: {f1(x_value)}\")\n",
        "print(f\"Second derivative at x={x_value}: {f2(x_value)}\")\n",
        "print(f\"Third derivative at x={x_value}: {f3(x_value)}\")\n"
      ]
    },
    {
      "cell_type": "markdown",
      "metadata": {
        "id": "u6OQmovaWjdq"
      },
      "source": [
        "##### **Step 03: Generalize the derivative functions**\n",
        "The functions `f1(x)`, `f2(x)` and `f3(x)` that you wrote in the previous step are specific to the function $f(x) = e^{-2x^2}$.  Now, write a generalized function that takes the order of the derivative as an argument and returns the value of the derivative of $f(x)$.\n",
        "\n",
        "> `fn(x, n)`: returns the value of the $n$ th derivative of $f(x)$"
      ]
    },
    {
      "cell_type": "code",
      "execution_count": 14,
      "metadata": {
        "id": "DU4MRYKCWjdq",
        "outputId": "d7969569-c39a-4074-aac3-b88ff388d3d7",
        "colab": {
          "base_uri": "https://localhost:8080/"
        }
      },
      "outputs": [
        {
          "output_type": "stream",
          "name": "stdout",
          "text": [
            "The 3th derivative of f(x) at x=1.5: -1.59969550150689\n"
          ]
        }
      ],
      "source": [
        "# Write appropiate code here\n",
        "import sympy as sp\n",
        "\n",
        "\n",
        "x = sp.symbols('x')\n",
        "f_x = sp.exp(-2*x**2)\n",
        "\n",
        "\n",
        "def fn(x_value, n):\n",
        "    derivative = sp.diff(f_x, x, n)\n",
        "    return derivative.subs(x, x_value)\n",
        "\n",
        "\n",
        "x_value = 1.5\n",
        "order = 3\n",
        "result = fn(x_value, order)\n",
        "\n",
        "print(f\"The {order}th derivative of f(x) at x={x_value}: {result}\")\n"
      ]
    },
    {
      "cell_type": "markdown",
      "metadata": {
        "id": "NEVDOupNWjdq"
      },
      "source": [
        "##### **Step 04: Define the Taylor series expansion function**\n",
        "Write a function that takes $x$, $a$, and $n$ as arguments and returns the value of the Taylor series expansion of $f(x)$ at $a$ with order $n$.\n",
        "\n",
        "> `taylor(x, a, n)`: returns the value of the Taylor series expansion of $f(x)$ at $a$ using the first $n$ terms of the Taylor series expansion"
      ]
    },
    {
      "cell_type": "code",
      "execution_count": 15,
      "metadata": {
        "id": "N6rx3yZLWjdq",
        "outputId": "e398c5cc-826d-43a5-ef15-ed6946c69874",
        "colab": {
          "base_uri": "https://localhost:8080/"
        }
      },
      "outputs": [
        {
          "output_type": "stream",
          "name": "stdout",
          "text": [
            "The value of the Taylor series expansion at x=1.5 with order 3: -3.50000000000000\n"
          ]
        }
      ],
      "source": [
        "# Write appropiate code here\n",
        "import sympy as sp\n",
        "\n",
        "def taylor(x, a, n):\n",
        "\n",
        "    symbol_x = sp.symbols('x')\n",
        "    f_x = sp.exp(-2 * symbol_x**2)\n",
        "\n",
        "    taylor_series = sp.series(f_x, x0=a, n=n).removeO()\n",
        "\n",
        "    result = taylor_series.subs(symbol_x, x)\n",
        "\n",
        "    return result\n",
        "\n",
        "x_value = 1.5\n",
        "center_point = 0\n",
        "order = 3\n",
        "\n",
        "result = taylor(x_value, center_point, order)\n",
        "print(f\"The value of the Taylor series expansion at x={x_value} with order {order}: {result}\")\n"
      ]
    },
    {
      "cell_type": "markdown",
      "metadata": {
        "id": "Od7uc5j6Wjdq"
      },
      "source": [
        "##### **Step 05: Approximate the value of the function at a point**\n",
        "Using the function `taylor(x, a, n)`, approximate the value of $f(x)$ at $x = 1$ using the first $4$ terms of the Taylor series expansion.  Also, compute the value of $f(x)$ at $x = 1$ using the function `f(x)` that you wrote in the previous step.  Find the absolute difference between the two values to determine the accuracy of the approximation."
      ]
    },
    {
      "cell_type": "code",
      "execution_count": 16,
      "metadata": {
        "id": "2ppB9ZDIWjdr",
        "outputId": "d2d71a57-209a-4593-9c78-3e96f56c157b",
        "colab": {
          "base_uri": "https://localhost:8080/"
        }
      },
      "outputs": [
        {
          "output_type": "stream",
          "name": "stdout",
          "text": [
            "Approximation using Taylor series expansion: -1\n",
            "Actual value of f(x) at x=1: exp(-2)\n",
            "Absolute difference: exp(-2) + 1\n"
          ]
        }
      ],
      "source": [
        "# Write appropiate code here\n",
        "import sympy as sp\n",
        "\n",
        "\n",
        "x = sp.symbols('x')\n",
        "f_x = sp.exp(-2 * x**2)\n",
        "\n",
        "\n",
        "def taylor(x, a, n):\n",
        "    symbol_x = sp.symbols('x')\n",
        "    taylor_series = sp.series(f_x, x0=a, n=n).removeO()\n",
        "    result = taylor_series.subs(symbol_x, x)\n",
        "    return result\n",
        "\n",
        "\n",
        "def f(x_value):\n",
        "    return f_x.subs(x, x_value)\n",
        "\n",
        "\n",
        "x_value = 1\n",
        "center_point = 0\n",
        "order = 4\n",
        "\n",
        "\n",
        "approximation = taylor(x_value, center_point, order)\n",
        "\n",
        "\n",
        "actual_value = f(x_value)\n",
        "\n",
        "absolute_difference = abs(approximation - actual_value)\n",
        "\n",
        "\n",
        "print(f\"Approximation using Taylor series expansion: {approximation}\")\n",
        "print(f\"Actual value of f(x) at x=1: {actual_value}\")\n",
        "print(f\"Absolute difference: {absolute_difference}\")\n"
      ]
    },
    {
      "cell_type": "markdown",
      "metadata": {
        "id": "ZrRslgzCWjdr"
      },
      "source": [
        "##### **Step 06: Show the visual difference between the approximation and the actual function**\n",
        "Now, we will see how good the approximation is by plotting the function and the Taylor series expansion of the function at different orders.  Follow the steps below to complete the task.\n",
        "\n",
        ">1. Define a list of values of `x` from $-2.5$ to $2.5$ with a step size of $0.1$.\n",
        ">2. Define a list of values of `y` by evaluating the function $f(x)$ at each value of $x$.\n",
        ">3. Define a list of values of `y_app` by evaluating the Taylor series expansion of $f(x)$ at each value of $x$ using the first $n$ terms of the Taylor series expansion starting from $n=1$ to $n=3$.\n",
        ">4. Plot the function $f(x)$ and the Taylor series expansion of $f(x)$ at different orders.  Use the following colors for the plots.\n",
        ">    * $n = 1$: blue\n",
        ">    * $n = 2$: green\n",
        ">    * $n = 3$: red\n",
        ">5. Add a legend to the plot.\n",
        ">6. Add labels to the $x$ and $y$ axes.\n",
        ">7. Add a title to the plot.\n",
        "\n",
        "See the effect of the order of the Taylor series expansion on the accuracy of the approximation.  The more terms we include in the Taylor series expansion, the more accurate the approximation becomes.  But, the more terms we include in the Taylor series expansion, the more complex the Taylor series expansion becomes.  So, we need to find a balance between the accuracy of the approximation and the complexity of the Taylor series expansion."
      ]
    },
    {
      "cell_type": "code",
      "execution_count": 17,
      "metadata": {
        "id": "e5nQhB4aWjdr",
        "outputId": "cd333c1f-bedc-486d-de06-0f4ff2de4022",
        "colab": {
          "base_uri": "https://localhost:8080/",
          "height": 564
        }
      },
      "outputs": [
        {
          "output_type": "display_data",
          "data": {
            "text/plain": [
              "<Figure size 1000x600 with 1 Axes>"
            ],
            "image/png": "[encoded data removed]"
          },
          "metadata": {}
        }
      ],
      "source": [
        "# Write appropiate code here\n",
        "import sympy as sp\n",
        "import matplotlib.pyplot as plt\n",
        "import numpy as np\n",
        "\n",
        "\n",
        "x = sp.symbols('x')\n",
        "f_x = sp.exp(-2 * x**2)\n",
        "\n",
        "\n",
        "def f(x_value):\n",
        "    return f_x.subs(x, x_value)\n",
        "\n",
        "\n",
        "def taylor(x, a, n):\n",
        "    symbol_x = sp.symbols('x')\n",
        "    taylor_series = sp.series(f_x, x0=a, n=n).removeO()\n",
        "    result = taylor_series.subs(symbol_x, x)\n",
        "    return result\n",
        "\n",
        "\n",
        "x_values = np.arange(-2.5, 2.6, 0.1)\n",
        "\n",
        "\n",
        "y_values = [f(x_val) for x_val in x_values]\n",
        "y_app_values_1 = [taylor(x_val, 0, 1) for x_val in x_values]\n",
        "y_app_values_2 = [taylor(x_val, 0, 2) for x_val in x_values]\n",
        "y_app_values_3 = [taylor(x_val, 0, 3) for x_val in x_values]\n",
        "\n",
        "\n",
        "plt.figure(figsize=(10, 6))\n",
        "\n",
        "plt.plot(x_values, y_values, label='f(x)', color='black')\n",
        "plt.plot(x_values, y_app_values_1, label='n=1', color='blue')\n",
        "plt.plot(x_values, y_app_values_2, label='n=2', color='green')\n",
        "plt.plot(x_values, y_app_values_3, label='n=3', color='red')\n",
        "\n",
        "plt.legend()\n",
        "plt.xlabel('x')\n",
        "plt.ylabel('y')\n",
        "plt.title('Function and Taylor Series Expansion')\n",
        "plt.grid(True)\n",
        "plt.show()\n"
      ]
    }
  ],
  "metadata": {
    "kernelspec": {
      "display_name": "Python 3",
      "language": "python",
      "name": "python3"
    },
    "language_info": {
      "codemirror_mode": {
        "name": "ipython",
        "version": 3
      },
      "file_extension": ".py",
      "mimetype": "text/x-python",
      "name": "python",
      "nbconvert_exporter": "python",
      "pygments_lexer": "ipython3",
      "version": "3.10.6 (tags/v3.10.6:9c7b4bd, Aug  1 2022, 21:53:49) [MSC v.1932 64 bit (AMD64)]"
    },
    "orig_nbformat": 4,
    "vscode": {
      "interpreter": {
        "hash": "b148fc9bfa8b60132af830e32e1690e4e023b803e92912df15b823b90141dda6"
      }
    },
    "colab": {
      "provenance": []
    }
  },
  "nbformat": 4,
  "nbformat_minor": 0
}